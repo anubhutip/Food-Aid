{
  "nbformat": 4,
  "nbformat_minor": 0,
  "metadata": {
    "colab": {
      "provenance": []
    },
    "kernelspec": {
      "name": "python3",
      "display_name": "Python 3"
    },
    "language_info": {
      "name": "python"
    },
    "accelerator": "GPU",
    "gpuClass": "standard"
  },
  "cells": [
    {
      "cell_type": "code",
      "source": [
        "!pip install chatterbot"
      ],
      "metadata": {
        "colab": {
          "base_uri": "https://localhost:8080/"
        },
        "id": "LZDeb-zd2vzO",
        "outputId": "ba8722d4-c8dd-427b-d8ec-18ccac0a955e"
      },
      "execution_count": 11,
      "outputs": [
        {
          "output_type": "stream",
          "name": "stdout",
          "text": [
            "Looking in indexes: https://pypi.org/simple, https://us-python.pkg.dev/colab-wheels/public/simple/\n",
            "Requirement already satisfied: chatterbot in /usr/local/lib/python3.8/dist-packages (1.0.5)\n",
            "Requirement already satisfied: nltk<4.0,>=3.2 in /usr/local/lib/python3.8/dist-packages (from chatterbot) (3.7)\n",
            "Requirement already satisfied: pytz in /usr/local/lib/python3.8/dist-packages (from chatterbot) (2022.7.1)\n",
            "Requirement already satisfied: sqlalchemy<1.3,>=1.2 in /usr/local/lib/python3.8/dist-packages (from chatterbot) (1.2.19)\n",
            "Requirement already satisfied: spacy<2.2,>=2.1 in /usr/local/lib/python3.8/dist-packages (from chatterbot) (2.1.9)\n",
            "Requirement already satisfied: python-dateutil<2.8,>=2.7 in /usr/local/lib/python3.8/dist-packages (from chatterbot) (2.7.5)\n",
            "Requirement already satisfied: pint>=0.8.1 in /usr/local/lib/python3.8/dist-packages (from chatterbot) (0.20.1)\n",
            "Requirement already satisfied: mathparse<0.2,>=0.1 in /usr/local/lib/python3.8/dist-packages (from chatterbot) (0.1.2)\n",
            "Collecting pyyaml<5.2,>=5.1\n",
            "  Using cached PyYAML-5.1.2-cp38-cp38-linux_x86_64.whl\n",
            "Requirement already satisfied: pymongo<4.0,>=3.3 in /usr/local/lib/python3.8/dist-packages (from chatterbot) (3.13.0)\n",
            "Requirement already satisfied: tqdm in /usr/local/lib/python3.8/dist-packages (from nltk<4.0,>=3.2->chatterbot) (4.64.1)\n",
            "Requirement already satisfied: click in /usr/local/lib/python3.8/dist-packages (from nltk<4.0,>=3.2->chatterbot) (8.1.3)\n",
            "Requirement already satisfied: joblib in /usr/local/lib/python3.8/dist-packages (from nltk<4.0,>=3.2->chatterbot) (1.2.0)\n",
            "Requirement already satisfied: regex>=2021.8.3 in /usr/local/lib/python3.8/dist-packages (from nltk<4.0,>=3.2->chatterbot) (2022.6.2)\n",
            "Requirement already satisfied: six>=1.5 in /usr/local/lib/python3.8/dist-packages (from python-dateutil<2.8,>=2.7->chatterbot) (1.15.0)\n",
            "Requirement already satisfied: srsly<1.1.0,>=0.0.6 in /usr/local/lib/python3.8/dist-packages (from spacy<2.2,>=2.1->chatterbot) (1.0.6)\n",
            "Requirement already satisfied: wasabi<1.1.0,>=0.2.0 in /usr/local/lib/python3.8/dist-packages (from spacy<2.2,>=2.1->chatterbot) (0.10.1)\n",
            "Requirement already satisfied: requests<3.0.0,>=2.13.0 in /usr/local/lib/python3.8/dist-packages (from spacy<2.2,>=2.1->chatterbot) (2.25.1)\n",
            "Requirement already satisfied: preshed<2.1.0,>=2.0.1 in /usr/local/lib/python3.8/dist-packages (from spacy<2.2,>=2.1->chatterbot) (2.0.1)\n",
            "Requirement already satisfied: blis<0.3.0,>=0.2.2 in /usr/local/lib/python3.8/dist-packages (from spacy<2.2,>=2.1->chatterbot) (0.2.4)\n",
            "Requirement already satisfied: plac<1.0.0,>=0.9.6 in /usr/local/lib/python3.8/dist-packages (from spacy<2.2,>=2.1->chatterbot) (0.9.6)\n",
            "Requirement already satisfied: numpy>=1.15.0 in /usr/local/lib/python3.8/dist-packages (from spacy<2.2,>=2.1->chatterbot) (1.22.4)\n",
            "Requirement already satisfied: murmurhash<1.1.0,>=0.28.0 in /usr/local/lib/python3.8/dist-packages (from spacy<2.2,>=2.1->chatterbot) (1.0.9)\n",
            "Requirement already satisfied: cymem<2.1.0,>=2.0.2 in /usr/local/lib/python3.8/dist-packages (from spacy<2.2,>=2.1->chatterbot) (2.0.7)\n",
            "Requirement already satisfied: thinc<7.1.0,>=7.0.8 in /usr/local/lib/python3.8/dist-packages (from spacy<2.2,>=2.1->chatterbot) (7.0.8)\n",
            "Requirement already satisfied: idna<3,>=2.5 in /usr/local/lib/python3.8/dist-packages (from requests<3.0.0,>=2.13.0->spacy<2.2,>=2.1->chatterbot) (2.10)\n",
            "Requirement already satisfied: certifi>=2017.4.17 in /usr/local/lib/python3.8/dist-packages (from requests<3.0.0,>=2.13.0->spacy<2.2,>=2.1->chatterbot) (2022.12.7)\n",
            "Requirement already satisfied: urllib3<1.27,>=1.21.1 in /usr/local/lib/python3.8/dist-packages (from requests<3.0.0,>=2.13.0->spacy<2.2,>=2.1->chatterbot) (1.26.14)\n",
            "Requirement already satisfied: chardet<5,>=3.0.2 in /usr/local/lib/python3.8/dist-packages (from requests<3.0.0,>=2.13.0->spacy<2.2,>=2.1->chatterbot) (4.0.0)\n",
            "Installing collected packages: pyyaml\n",
            "  Attempting uninstall: pyyaml\n",
            "    Found existing installation: PyYAML 3.13\n",
            "    Uninstalling PyYAML-3.13:\n",
            "      Successfully uninstalled PyYAML-3.13\n",
            "\u001b[31mERROR: pip's dependency resolver does not currently take into account all the packages that are installed. This behaviour is the source of the following dependency conflicts.\n",
            "dask 2022.2.1 requires pyyaml>=5.3.1, but you have pyyaml 5.1.2 which is incompatible.\n",
            "chatterbot-corpus 1.2.0 requires PyYAML<4.0,>=3.12, but you have pyyaml 5.1.2 which is incompatible.\u001b[0m\u001b[31m\n",
            "\u001b[0mSuccessfully installed pyyaml-5.1.2\n"
          ]
        }
      ]
    },
    {
      "cell_type": "code",
      "source": [
        "!pip install ListTrainer"
      ],
      "metadata": {
        "colab": {
          "base_uri": "https://localhost:8080/"
        },
        "id": "kKoOa69_2vnJ",
        "outputId": "22ade562-b693-4eb7-a4de-4ff8206f34af"
      },
      "execution_count": 12,
      "outputs": [
        {
          "output_type": "stream",
          "name": "stdout",
          "text": [
            "Looking in indexes: https://pypi.org/simple, https://us-python.pkg.dev/colab-wheels/public/simple/\n",
            "\u001b[31mERROR: Could not find a version that satisfies the requirement ListTrainer (from versions: none)\u001b[0m\u001b[31m\n",
            "\u001b[0m\u001b[31mERROR: No matching distribution found for ListTrainer\u001b[0m\u001b[31m\n",
            "\u001b[0m"
          ]
        }
      ]
    },
    {
      "cell_type": "code",
      "source": [
        "!pip install requests"
      ],
      "metadata": {
        "colab": {
          "base_uri": "https://localhost:8080/"
        },
        "id": "L_rOp_hv2vS_",
        "outputId": "8564a7b7-cc12-4001-8244-e73b1ac90f56"
      },
      "execution_count": 13,
      "outputs": [
        {
          "output_type": "stream",
          "name": "stdout",
          "text": [
            "Looking in indexes: https://pypi.org/simple, https://us-python.pkg.dev/colab-wheels/public/simple/\n",
            "Requirement already satisfied: requests in /usr/local/lib/python3.8/dist-packages (2.25.1)\n",
            "Requirement already satisfied: urllib3<1.27,>=1.21.1 in /usr/local/lib/python3.8/dist-packages (from requests) (1.26.14)\n",
            "Requirement already satisfied: certifi>=2017.4.17 in /usr/local/lib/python3.8/dist-packages (from requests) (2022.12.7)\n",
            "Requirement already satisfied: chardet<5,>=3.0.2 in /usr/local/lib/python3.8/dist-packages (from requests) (4.0.0)\n",
            "Requirement already satisfied: idna<3,>=2.5 in /usr/local/lib/python3.8/dist-packages (from requests) (2.10)\n"
          ]
        }
      ]
    },
    {
      "cell_type": "code",
      "source": [
        "from chatterbot import ChatBot\n",
        "from chatterbot.trainers import ListTrainer\n",
        "import requests\n",
        "\n",
        "# Define a new chatbot instance\n",
        "bot = ChatBot('Food Waste Bot')\n",
        "\n",
        "# Define a list of sample conversations for training the chatbot\n",
        "conversations = [\n",
        "    'Hello',\n",
        "    'Hi there!',\n",
        "    'How can I help you manage your food waste?',\n",
        "    'What are some ways to reduce food waste?',\n",
        "    'You can plan your meals in advance, use leftovers, and compost food scraps!',\n",
        "    'Thank you for your help!',\n",
        "    'You\\'re welcome!'\n",
        "]\n",
        "\n",
        "# Train the chatbot on the sample conversations\n",
        "trainer = ListTrainer(bot)\n",
        "trainer.train(conversations)\n",
        "\n",
        "# Define a function to get tips for reducing food waste\n",
        "def get_waste_tips():\n",
        "    tips = [\n",
        "        \"Plan your meals and buy only what you need.\",\n",
        "        \"Store your food properly to keep it fresh longer.\",\n",
        "        \"Use your leftovers to make new meals or snacks.\",\n",
        "        \"Donate excess food to a local food bank or shelter.\",\n",
        "        \"Compost your food scraps to reduce landfill waste.\",\n",
        "        \"Shop at stores that sell imperfect produce or donate their excess food to local charities.\",\n",
        "        \"Learn to preserve food by canning, pickling, or dehydrating.\",\n",
        "        \"Be mindful of expiration dates and use food before it goes bad.\",\n",
        "        \"Avoid throwing away food just because it looks unappealing. Try using it in a smoothie, soup, or stew.\",\n",
        "        \"Support local farmers and buy produce in season to reduce waste from long-distance transportation.\",\n",
        "        \"Take advantage of food-sharing apps and websites to share excess food with your community.\",\n",
        "        \"Learn to cook with parts of the food you might normally throw away, like broccoli stems or carrot tops.\",\n",
        "        \"Freeze excess food to use later instead of letting it go to waste.\",\n",
        "        \"Use a meal planning app or tool to help you reduce food waste and save money.\",\n",
        "        \"Educate yourself on the environmental and social impacts of food waste and encourage others to do the same.\"\n",
        "    ]\n",
        "    \n",
        "    # Choose a random tip and return it to the user\n",
        "    tip = random.choice(tips)\n",
        "    return f\"Here's a food waste reduction tip: {tip}\"\n",
        "\n",
        "\n",
        "# Define a function to provide recipes based on ingredients\n",
        "def provide_recipe(user_input):\n",
        "    # Use the Spoonacular API to get recipes based on ingredients\n",
        "    api_key = 'your_spoonacular_api_key'\n",
        "    url = f'https://api.spoonacular.com/recipes/findByIngredients?apiKey={api_key}&ingredients={user_input}&number=1'\n",
        "    response = requests.get(url)\n",
        "    if response.status_code == 200:\n",
        "        recipe_data = response.json()\n",
        "        if recipe_data:\n",
        "            recipe_title = recipe_data[0]['title']\n",
        "            recipe_url = recipe_data[0]['sourceUrl']\n",
        "            bot_response = f'You can try making {recipe_title}! Here is the recipe: {recipe_url}'\n",
        "        else:\n",
        "            bot_response = 'I\\'m sorry, I couldn\\'t find any recipes with those ingredients. Is there anything else you would like to know?'\n",
        "    else:\n",
        "        bot_response = 'I\\'m sorry, there was an error while searching for recipes. Please try again later.'\n",
        "    return bot_response\n",
        "\n",
        "# Define a function to provide information on local food banks or donation centers\n",
        "def provide_donation_info(user_input):\n",
        "    # Use the Charity Navigator API to get information on local food banks or donation centers\n",
        "    api_key = 'your_charity_navigator_api_key'\n",
        "    url = f'https://api.data.charitynavigator.org/v2/Organizations?app_id=your_app_id&app_key={api_key}&search={user_input}&categoryID=3'\n",
        "    response = requests.get(url)\n",
        "    if response.status_code == 200:\n",
        "        donation_data = response.json()\n",
        "        if donation_data:\n",
        "            donation_name = donation_data[0]['charityName']\n",
        "            donation_url = donation_data[0]['websiteURL']\n",
        "            bot_response = f'You can donate your excess food to {donation_name}! Here is their website: {donation_url}'\n",
        "        else:\n",
        "            bot_response = 'I\\'m sorry, I couldn\\'t find any nearby food banks or donation centers. Is there anything else you would like to know?'\n",
        "    else:\n",
        "        bot_response = 'I\\'m sorry, there was an error while searching for donation centers. Please try again later.'\n",
        "    return bot_response\n",
        "\n",
        "\n",
        "# Define a function to start the chatbot\n",
        "def start_bot():\n",
        "    print('Welcome to Food Waste Bot! How can I help you manage your food waste?')\n",
        "    while True:\n",
        "        try:\n",
        "            user_input = input('You: ')\n",
        "        except EOFError:\n",
        "            print('\\nFood Waste Bot: Goodbye!')\n",
        "            break\n",
        "\n",
        "        if user_input.lower() in ['bye', 'goodbye']:\n",
        "            print('Food Waste Bot: Goodbye!')\n",
        "            break\n",
        "\n",
        "        if 'reduce food waste' in user_input.lower() or 'tips' in user_input.lower():\n",
        "            bot_response = get_waste_tips()\n",
        "        elif 'recipe' in user_input.lower() or 'cook' in user_input.lower() or 'make' in user_input.lower():\n",
        "            ingredients = input('What ingredients do you have? ')\n",
        "            bot_response = provide_recipe(ingredients)\n",
        "        elif 'donate' in user_input.lower() or 'charity' in user_input.lower() or 'food bank' in user_input.lower():\n",
        "            location = input('What is your location? ')\n",
        "            bot_response = provide_donation_info(location)\n",
        "        else:\n",
        "            try:\n",
        "                bot_response = str(bot.get_response(user_input))\n",
        "            except:\n",
        "                bot_response = \"Sorry, I didn't understand that.\"\n",
        "\n",
        "        print('Food Waste Bot:', bot_response)\n",
        "\n",
        "\n",
        "\n",
        "start_bot()\n",
        "\n",
        "\n",
        "\n"
      ],
      "metadata": {
        "id": "rSE2HYmSUnm6",
        "colab": {
          "base_uri": "https://localhost:8080/"
        },
        "outputId": "ad2eda0a-f555-4ea3-9125-df593e007702"
      },
      "execution_count": 17,
      "outputs": [
        {
          "output_type": "stream",
          "name": "stdout",
          "text": [
            "List Trainer: [####################] 100%"
          ]
        },
        {
          "output_type": "stream",
          "name": "stderr",
          "text": [
            "[nltk_data] Downloading package stopwords to /root/nltk_data...\n",
            "[nltk_data]   Package stopwords is already up-to-date!\n",
            "[nltk_data] Downloading package averaged_perceptron_tagger to\n",
            "[nltk_data]     /root/nltk_data...\n",
            "[nltk_data]   Package averaged_perceptron_tagger is already up-to-\n",
            "[nltk_data]       date!\n"
          ]
        },
        {
          "output_type": "stream",
          "name": "stdout",
          "text": [
            "\r\n",
            "Welcome to Food Waste Bot! How can I help you manage your food waste?\n",
            "You: tips\n",
            "Food Waste Bot: Here's a food waste reduction tip: Donate excess food to a local food bank or shelter.\n",
            "You: donation\n",
            "Food Waste Bot: You can plan your meals in advance, use leftovers, and compost food scraps!\n",
            "You: reduce food waste\n",
            "Food Waste Bot: Here's a food waste reduction tip: Freeze excess food to use later instead of letting it go to waste.\n",
            "You: food bank\n",
            "What is your location? United States\n",
            "Food Waste Bot: I'm sorry, there was an error while searching for donation centers. Please try again later.\n",
            "You: Bye\n",
            "Food Waste Bot: Goodbye!\n"
          ]
        }
      ]
    },
    {
      "cell_type": "code",
      "source": [],
      "metadata": {
        "id": "jg6Yichb2tIK"
      },
      "execution_count": null,
      "outputs": []
    }
  ]
}